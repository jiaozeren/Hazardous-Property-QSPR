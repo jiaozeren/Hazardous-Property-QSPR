{
 "cells": [
  {
   "cell_type": "code",
   "execution_count": 6,
   "metadata": {},
   "outputs": [],
   "source": [
    "import psi4\n",
    "import numpy as np\n",
    "from rdkit import Chem\n",
    "from rdkit.Chem import AllChem\n",
    "from rdkit.Chem.Draw import IPythonConsole\n",
    "psi4.core.set_output_file(\"output1.dat\", True)\n",
    "def mol2xyz(mol):\n",
    "    mol = Chem.AddHs(mol)\n",
    "    AllChem.EmbedMolecule(mol, useExpTorsionAnglePrefs=True,useBasicKnowledge=True)\n",
    "    AllChem.MMFFOptimizeMolecule(mol)\n",
    "    atoms = mol.GetAtoms()\n",
    "    string = string = \"\\n\"\n",
    "    for i, atom in enumerate(atoms):\n",
    "        pos = mol.GetConformer().GetAtomPosition(atom.GetIdx())\n",
    "        string += \"{} {} {} {}\\n\".format(atom.GetSymbol(), pos.x, pos.y, pos.z)\n",
    "    string += \"units angstrom\\n\"\n",
    "    return string, mol"
   ]
  },
  {
   "cell_type": "code",
   "execution_count": 7,
   "metadata": {},
   "outputs": [
    {
     "name": "stdout",
     "output_type": "stream",
     "text": [
      "CPU times: user 9.73 s, sys: 504 ms, total: 10.2 s\n",
      "Wall time: 3.01 s\n"
     ]
    }
   ],
   "source": [
    "mol = Chem.MolFromSmiles(\"c1ccccc1\")\n",
    "xyz, mol=mol2xyz(mol)\n",
    "psi4.set_memory('4 GB')\n",
    "psi4.set_num_threads(4)\n",
    "benz = psi4.geometry(xyz)\n",
    "%time scf_e, scf_wfn = psi4.energy(\"B3LYP/cc-pVDZ\", return_wfn=True)"
   ]
  },
  {
   "cell_type": "code",
   "execution_count": 8,
   "metadata": {},
   "outputs": [
    {
     "name": "stdout",
     "output_type": "stream",
     "text": [
      "-0.25354645313442487 -0.005643887556812325 -232.2627144282448\n"
     ]
    }
   ],
   "source": [
    "# HOMO = scf_wfn.epsilon_a_subset('AO', 'ALL').np[scf_wfn.nalpha()]\n",
    "# LUMO = scf_wfn.epsilon_a_subset('AO', 'ALL').np[scf_wfn.nalpha() + 1]\n",
    "HOMO = scf_wfn.epsilon_a_subset('AO', 'ALL').np[scf_wfn.nalpha()-1]\n",
    "LUMO = scf_wfn.epsilon_a_subset('AO', 'ALL').np[scf_wfn.nalpha()]\n",
    "print(HOMO, LUMO, scf_e)"
   ]
  }
 ],
 "metadata": {
  "kernelspec": {
   "display_name": "Python 3",
   "language": "python",
   "name": "python3"
  },
  "language_info": {
   "codemirror_mode": {
    "name": "ipython",
    "version": 3
   },
   "file_extension": ".py",
   "mimetype": "text/x-python",
   "name": "python",
   "nbconvert_exporter": "python",
   "pygments_lexer": "ipython3",
   "version": "3.7.3"
  }
 },
 "nbformat": 4,
 "nbformat_minor": 4
}
